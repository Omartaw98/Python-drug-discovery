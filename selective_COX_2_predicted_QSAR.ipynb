{
  "nbformat": 4,
  "nbformat_minor": 0,
  "metadata": {
    "colab": {
      "provenance": [],
      "authorship_tag": "ABX9TyNV49VHQ4RBA8rqJFbeAqYy",
      "include_colab_link": true
    },
    "kernelspec": {
      "name": "python3",
      "display_name": "Python 3"
    },
    "language_info": {
      "name": "python"
    }
  },
  "cells": [
    {
      "cell_type": "markdown",
      "metadata": {
        "id": "view-in-github",
        "colab_type": "text"
      },
      "source": [
        "<a href=\"https://colab.research.google.com/github/Omartaw98/Python-drug-discovery/blob/main/selective_COX_2_predicted_QSAR.ipynb\" target=\"_parent\"><img src=\"https://colab.research.google.com/assets/colab-badge.svg\" alt=\"Open In Colab\"/></a>"
      ]
    },
    {
      "cell_type": "code",
      "execution_count": 1,
      "metadata": {
        "colab": {
          "base_uri": "https://localhost:8080/"
        },
        "id": "bYCekLxLfURK",
        "outputId": "3bd77569-841e-422a-afa1-1be9c05685f3"
      },
      "outputs": [
        {
          "output_type": "stream",
          "name": "stdout",
          "text": [
            "Requirement already satisfied: xgboost in /usr/local/lib/python3.10/dist-packages (2.1.3)\n",
            "Requirement already satisfied: seaborn in /usr/local/lib/python3.10/dist-packages (0.13.2)\n",
            "Requirement already satisfied: matplotlib in /usr/local/lib/python3.10/dist-packages (3.8.0)\n",
            "Requirement already satisfied: numpy in /usr/local/lib/python3.10/dist-packages (from xgboost) (1.26.4)\n",
            "Requirement already satisfied: nvidia-nccl-cu12 in /usr/local/lib/python3.10/dist-packages (from xgboost) (2.23.4)\n",
            "Requirement already satisfied: scipy in /usr/local/lib/python3.10/dist-packages (from xgboost) (1.13.1)\n",
            "Requirement already satisfied: pandas>=1.2 in /usr/local/lib/python3.10/dist-packages (from seaborn) (2.2.2)\n",
            "Requirement already satisfied: contourpy>=1.0.1 in /usr/local/lib/python3.10/dist-packages (from matplotlib) (1.3.1)\n",
            "Requirement already satisfied: cycler>=0.10 in /usr/local/lib/python3.10/dist-packages (from matplotlib) (0.12.1)\n",
            "Requirement already satisfied: fonttools>=4.22.0 in /usr/local/lib/python3.10/dist-packages (from matplotlib) (4.55.3)\n",
            "Requirement already satisfied: kiwisolver>=1.0.1 in /usr/local/lib/python3.10/dist-packages (from matplotlib) (1.4.7)\n",
            "Requirement already satisfied: packaging>=20.0 in /usr/local/lib/python3.10/dist-packages (from matplotlib) (24.2)\n",
            "Requirement already satisfied: pillow>=6.2.0 in /usr/local/lib/python3.10/dist-packages (from matplotlib) (11.0.0)\n",
            "Requirement already satisfied: pyparsing>=2.3.1 in /usr/local/lib/python3.10/dist-packages (from matplotlib) (3.2.0)\n",
            "Requirement already satisfied: python-dateutil>=2.7 in /usr/local/lib/python3.10/dist-packages (from matplotlib) (2.8.2)\n",
            "Requirement already satisfied: pytz>=2020.1 in /usr/local/lib/python3.10/dist-packages (from pandas>=1.2->seaborn) (2024.2)\n",
            "Requirement already satisfied: tzdata>=2022.7 in /usr/local/lib/python3.10/dist-packages (from pandas>=1.2->seaborn) (2024.2)\n",
            "Requirement already satisfied: six>=1.5 in /usr/local/lib/python3.10/dist-packages (from python-dateutil>=2.7->matplotlib) (1.17.0)\n"
          ]
        }
      ],
      "source": [
        "!pip install xgboost seaborn matplotlib"
      ]
    },
    {
      "cell_type": "code",
      "source": [
        "!pip install rdkit-pypi\n"
      ],
      "metadata": {
        "colab": {
          "base_uri": "https://localhost:8080/"
        },
        "id": "c677xkK1gZoa",
        "outputId": "4b641ae8-7a6d-442b-c7f0-d7628ad110a3"
      },
      "execution_count": 3,
      "outputs": [
        {
          "output_type": "stream",
          "name": "stdout",
          "text": [
            "Collecting rdkit-pypi\n",
            "  Downloading rdkit_pypi-2022.9.5-cp310-cp310-manylinux_2_17_x86_64.manylinux2014_x86_64.whl.metadata (3.9 kB)\n",
            "Requirement already satisfied: numpy in /usr/local/lib/python3.10/dist-packages (from rdkit-pypi) (1.26.4)\n",
            "Requirement already satisfied: Pillow in /usr/local/lib/python3.10/dist-packages (from rdkit-pypi) (11.0.0)\n",
            "Downloading rdkit_pypi-2022.9.5-cp310-cp310-manylinux_2_17_x86_64.manylinux2014_x86_64.whl (29.4 MB)\n",
            "\u001b[2K   \u001b[90m━━━━━━━━━━━━━━━━━━━━━━━━━━━━━━━━━━━━━━━━\u001b[0m \u001b[32m29.4/29.4 MB\u001b[0m \u001b[31m50.0 MB/s\u001b[0m eta \u001b[36m0:00:00\u001b[0m\n",
            "\u001b[?25hInstalling collected packages: rdkit-pypi\n",
            "Successfully installed rdkit-pypi-2022.9.5\n"
          ]
        }
      ]
    },
    {
      "cell_type": "code",
      "source": [
        "import pandas as pd\n",
        "import numpy as np\n",
        "from rdkit import Chem\n",
        "from rdkit.Chem import AllChem, Descriptors, Fragments\n",
        "from sklearn.model_selection import train_test_split\n",
        "from sklearn.preprocessing import StandardScaler\n",
        "from sklearn.ensemble import RandomForestRegressor\n",
        "from xgboost import XGBRegressor\n",
        "from sklearn.metrics import r2_score, mean_squared_error\n",
        "import seaborn as sns\n",
        "import matplotlib.pyplot as plt\n",
        "\n",
        "def create_initial_dataset():\n",
        "    \"\"\"Create sample COX-2 dataset\"\"\"\n",
        "    data = {\n",
        "        'SMILES': [\n",
        "            'CC1=CC=C(C=C1)S(=O)(=O)NC(=O)NC2=CC=C(C=C2)OC',  # Celecoxib\n",
        "            'CC1=C(C=C(C=C1)S(=O)(=O)NC(=O)NC2=CC=C(C=C2)OC)C',  # Valdecoxib\n",
        "            'CC1=CC=C(C=C1)C2=C(C(=O)OC2)C3=CC=C(C=C3)F',  # Rofecoxib\n",
        "            'CC1=CC=C(C=C1)C2=C(C(=O)OC2)C3=CC=CC=C3'  # Example analog\n",
        "        ],\n",
        "        'pIC50': [8.7, 8.3, 8.1, 7.9]\n",
        "    }\n",
        "    return pd.DataFrame(data)\n",
        "\n",
        "def calculate_molecular_descriptors(smiles):\n",
        "    \"\"\"Calculate molecular descriptors using RDKit\"\"\"\n",
        "    mol = Chem.MolFromSmiles(smiles)\n",
        "    if mol is None:\n",
        "        return None\n",
        "\n",
        "    descriptors = {}\n",
        "    # Basic descriptors\n",
        "    descriptors['MW'] = Descriptors.ExactMolWt(mol)\n",
        "    descriptors['LogP'] = Descriptors.MolLogP(mol)\n",
        "    descriptors['TPSA'] = Descriptors.TPSA(mol)\n",
        "    descriptors['HBA'] = Descriptors.NumHAcceptors(mol)\n",
        "    descriptors['HBD'] = Descriptors.NumHDonors(mol)\n",
        "\n",
        "    # COX-2 specific descriptors\n",
        "    descriptors['SulfonamideGroups'] = Fragments.fr_sulfonamd(mol)\n",
        "    descriptors['AromaticRings'] = Descriptors.NumAromaticRings(mol)\n",
        "    descriptors['AliphaticRings'] = Descriptors.NumAliphaticRings(mol)\n",
        "    descriptors['sp3Carbons'] = Descriptors.FractionCSP3(mol)\n",
        "\n",
        "    # Fragment counts\n",
        "    descriptors['MethoxyGroups'] = Fragments.fr_methoxy(mol)\n",
        "    descriptors['CarboxylGroups'] = Fragments.fr_COO(mol)\n",
        "    descriptors['AmideGroups'] = Fragments.fr_amide(mol)\n",
        "\n",
        "    # Morgan fingerprints\n",
        "    fp = AllChem.GetMorganFingerprintAsBitVect(mol, 2, nBits=1024)\n",
        "    fp_bits = list(fp.GetOnBits())\n",
        "    for bit in fp_bits:\n",
        "        descriptors[f'Bit_{bit}'] = 1\n",
        "\n",
        "    return descriptors\n",
        "\n",
        "def prepare_dataset(df):\n",
        "    \"\"\"Prepare dataset from DataFrame\"\"\"\n",
        "    descriptor_list = []\n",
        "    for smiles in df['SMILES']:\n",
        "        desc = calculate_molecular_descriptors(smiles)\n",
        "        descriptor_list.append(desc)\n",
        "\n",
        "    descriptor_df = pd.DataFrame(descriptor_list)\n",
        "    return descriptor_df.fillna(0), df['pIC50']\n",
        "\n",
        "def train_qsar_model(X, y, model_type='xgboost'):\n",
        "    \"\"\"Train QSAR model\"\"\"\n",
        "    X_train, X_test, y_train, y_test = train_test_split(X, y, test_size=0.2, random_state=42)\n",
        "\n",
        "    scaler = StandardScaler()\n",
        "    X_train_scaled = scaler.fit_transform(X_train)\n",
        "    X_test_scaled = scaler.transform(X_test)\n",
        "\n",
        "    if model_type == 'xgboost':\n",
        "        model = XGBRegressor(n_estimators=200, learning_rate=0.1, max_depth=6)\n",
        "    else:\n",
        "        model = RandomForestRegressor(n_estimators=200, max_depth=10)\n",
        "\n",
        "    model.fit(X_train_scaled, y_train)\n",
        "\n",
        "    importance = model.feature_importances_\n",
        "    feature_importance = pd.DataFrame({\n",
        "        'feature': X.columns,\n",
        "        'importance': importance\n",
        "    }).sort_values('importance', ascending=False)\n",
        "\n",
        "    y_pred = model.predict(X_test_scaled)\n",
        "    r2 = r2_score(y_test, y_pred)\n",
        "    rmse = np.sqrt(mean_squared_error(y_test, y_pred))\n",
        "\n",
        "    return model, scaler, feature_importance, (X_test_scaled, y_test, y_pred, r2, rmse)\n",
        "\n",
        "def plot_results(y_test, y_pred):\n",
        "    \"\"\"Plot predicted vs experimental values\"\"\"\n",
        "    plt.figure(figsize=(8, 8))\n",
        "    sns.scatterplot(x=y_test, y=y_pred)\n",
        "    plt.plot([min(y_test), max(y_test)], [min(y_test), max(y_test)], 'r--')\n",
        "    plt.xlabel('Experimental pIC50')\n",
        "    plt.ylabel('Predicted pIC50')\n",
        "    plt.title('Predicted vs Experimental Values')\n",
        "    plt.show()\n",
        "\n",
        "# Run workflow\n",
        "df = create_initial_dataset()\n",
        "X, y = prepare_dataset(df)\n",
        "model, scaler, feature_imp, (X_test, y_test, y_pred, r2, rmse) = train_qsar_model(X, y)\n",
        "\n",
        "# Print results\n",
        "print(f\"R2 Score: {r2:.3f}\")\n",
        "print(f\"RMSE: {rmse:.3f}\")\n",
        "\n",
        "# Plot results\n",
        "plot_results(y_test, y_pred)\n",
        "\n",
        "# Show top features\n",
        "print(\"\\nTop 10 Important Features:\")\n",
        "print(feature_imp.head(10))"
      ],
      "metadata": {
        "colab": {
          "base_uri": "https://localhost:8080/",
          "height": 1000
        },
        "id": "XBHCPGL1fZuk",
        "outputId": "f5807b3a-9458-46b1-b8cc-6d174419d4c5"
      },
      "execution_count": 4,
      "outputs": [
        {
          "output_type": "stream",
          "name": "stderr",
          "text": [
            "/usr/local/lib/python3.10/dist-packages/sklearn/metrics/_regression.py:1266: UndefinedMetricWarning: R^2 score is not well-defined with less than two samples.\n",
            "  warnings.warn(msg, UndefinedMetricWarning)\n"
          ]
        },
        {
          "output_type": "stream",
          "name": "stdout",
          "text": [
            "R2 Score: nan\n",
            "RMSE: 0.399\n"
          ]
        },
        {
          "output_type": "display_data",
          "data": {
            "text/plain": [
              "<Figure size 800x800 with 1 Axes>"
            ],
            "image/png": "[encoded data removed]"
          },
          "metadata": {}
        },
        {
          "output_type": "stream",
          "name": "stdout",
          "text": [
            "\n",
            "Top 10 Important Features:\n",
            "    feature  importance\n",
            "0        MW         1.0\n",
            "48  Bit_249         0.0\n",
            "55   Bit_89         0.0\n",
            "54   Bit_64         0.0\n",
            "53  Bit_875         0.0\n",
            "52  Bit_667         0.0\n",
            "51  Bit_503         0.0\n",
            "50  Bit_367         0.0\n",
            "49  Bit_272         0.0\n",
            "47  Bit_198         0.0\n"
          ]
        }
      ]
    },
    {
      "cell_type": "code",
      "source": [
        "# Predict new compounds\n",
        "new_smiles = [\n",
        "    'CC1=CC=C(C=C1)S(=O)(=O)NC(=O)NC2=CC=C(C=C2)OCC',  # Modified Celecoxib\n",
        "    'CC1=CC=C(C=C1)C2=C(C(=O)OC2)C3=CC=C(C=C3)Cl'   # Modified Rofecoxib\n",
        "]\n",
        "\n",
        "descriptor_list = []\n",
        "for smiles in new_smiles:\n",
        "    desc = calculate_molecular_descriptors(smiles)\n",
        "    descriptor_list.append(desc)\n",
        "\n",
        "descriptor_df = pd.DataFrame(descriptor_list)\n",
        "descriptor_df = descriptor_df.fillna(0)\n",
        "\n",
        "# Get the column names from the training data\n",
        "train_columns = X.columns\n",
        "\n",
        "# Add missing columns to the new data\n",
        "for col in train_columns:\n",
        "    if col not in descriptor_df.columns:\n",
        "        descriptor_df[col] = 0\n",
        "\n",
        "# Remove extra columns from the new data\n",
        "descriptor_df = descriptor_df[train_columns]\n",
        "\n",
        "scaled_descriptors = scaler.transform(descriptor_df)\n",
        "predictions = model.predict(scaled_descriptors)\n",
        "\n",
        "for smiles, pred in zip(new_smiles, predictions):\n",
        "    print(f\"SMILES: {smiles}\")\n",
        "    print(f\"Predicted pIC50: {pred:.2f}\")"
      ],
      "metadata": {
        "colab": {
          "base_uri": "https://localhost:8080/"
        },
        "id": "zsORmVUZhkbK",
        "outputId": "ae7e983d-81e2-4e7a-87eb-ffd24c2262ce"
      },
      "execution_count": 6,
      "outputs": [
        {
          "output_type": "stream",
          "name": "stdout",
          "text": [
            "SMILES: CC1=CC=C(C=C1)S(=O)(=O)NC(=O)NC2=CC=C(C=C2)OCC\n",
            "Predicted pIC50: 8.70\n",
            "SMILES: CC1=CC=C(C=C1)C2=C(C(=O)OC2)C3=CC=C(C=C3)Cl\n",
            "Predicted pIC50: 8.10\n"
          ]
        }
      ]
    },
    {
      "cell_type": "code",
      "source": [],
      "metadata": {
        "id": "VnJSNKkKhlh-"
      },
      "execution_count": null,
      "outputs": []
    }
  ]
}